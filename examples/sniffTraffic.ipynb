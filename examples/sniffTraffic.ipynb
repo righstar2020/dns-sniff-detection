{
 "cells": [
  {
   "cell_type": "code",
   "execution_count": 21,
   "metadata": {},
   "outputs": [],
   "source": [
    "from scapy.all import *\n",
    "#   导入scapy包\n",
    "from scapy.arch.windows import get_windows_if_list"
   ]
  },
  {
   "cell_type": "code",
   "execution_count": 32,
   "metadata": {},
   "outputs": [],
   "source": [
    "import platform\n",
    "\n",
    "# 获取当前操作系统名称\n",
    "os_name = platform.system()\n",
    "def check_os_Window():\n",
    "    if os_name == \"Windows\":\n",
    "        print(\"当前系统为 Windows\")\n",
    "        return True\n",
    "    else:\n",
    "        print(\"当前系统不是 Windows\")\n",
    "        return True"
   ]
  },
  {
   "cell_type": "code",
   "execution_count": 36,
   "metadata": {},
   "outputs": [
    {
     "name": "stdout",
     "output_type": "stream",
     "text": [
      "当前系统为 Windows\n",
      "['LetsTAP', '本地连接* 1', '本地连接* 2', 'VMware Network Adapter VMnet1', 'VMware Network Adapter VMnet8', 'WLAN', 'Loopback Pseudo-Interface 1', 'LetsTAP-WFP Native MAC Layer LightWeight Filter-0000', 'LetsTAP-Npcap Packet Driver (NPCAP)-0000', 'LetsTAP-QoS Packet Scheduler-0000', 'VMware Network Adapter VMnet1-Npcap Packet Driver (NPCAP)-0000', 'LetsTAP-WFP 802.3 MAC Layer LightWeight Filter-0000', 'VMware Network Adapter VMnet8-Npcap Packet Driver (NPCAP)-0000', '本地连接* 8-WFP Native MAC Layer LightWeight Filter-0000', '本地连接* 8-Npcap Packet Driver (NPCAP)-0000', '本地连接* 8-QoS Packet Scheduler-0000', '本地连接* 9-WFP Native MAC Layer LightWeight Filter-0000', '本地连接* 9-Npcap Packet Driver (NPCAP)-0000', '本地连接* 9-QoS Packet Scheduler-0000', '本地连接* 10-WFP Native MAC Layer LightWeight Filter-0000', '本地连接* 10-Npcap Packet Driver (NPCAP)-0000', '本地连接* 10-QoS Packet Scheduler-0000', '以太网(内核调试器)', '以太网', '以太网 2', '本地连接* 8', '本地连接* 9', '本地连接* 10', '以太网 4', '以太网 5', '蓝牙网络连接', '以太网 3', '本地连接* 7', '本地连接* 11', 'NSTUN', 'WLAN-WFP Native MAC Layer LightWeight Filter-0000', 'WLAN-Virtual WiFi Filter Driver-0000', 'WLAN-Native WiFi Filter Driver-0000', 'WLAN-Npcap Packet Driver (NPCAP)-0000', 'WLAN-QoS Packet Scheduler-0000', 'WLAN-WFP 802.3 MAC Layer LightWeight Filter-0000', '本地连接* 1-WFP Native MAC Layer LightWeight Filter-0000', '本地连接* 1-Native WiFi Filter Driver-0000', '本地连接* 1-Npcap Packet Driver (NPCAP)-0000', '本地连接* 1-QoS Packet Scheduler-0000', '本地连接* 1-WFP 802.3 MAC Layer LightWeight Filter-0000', '本地连接* 2-WFP Native MAC Layer LightWeight Filter-0000', '本地连接* 2-Native WiFi Filter Driver-0000', '本地连接* 2-Npcap Packet Driver (NPCAP)-0000', '本地连接* 2-QoS Packet Scheduler-0000', '本地连接* 2-WFP 802.3 MAC Layer LightWeight Filter-0000', 'Teredo Tunneling Pseudo-Interface', 'Microsoft IP-HTTPS Platform Interface', '6to4 Adapter', '本地连接* 3', '本地连接* 4', '本地连接* 5', '本地连接* 6']\n",
      "\\Device\\NPF_{C1B805AA-F666-41FA-AE77-6A388351268C}\n",
      "{'name': 'LetsTAP', 'index': 3, 'description': 'TAP-Windows Adapter V9', 'guid': '{0E621EC2-04EB-4A41-8952-A9E9BDEEF2A9}', 'mac': '00:ff:0e:62:1e:c2', 'ipv4_metric': 1, 'ipv6_metric': 1, 'ips': ['fe80::20e3:f9ca:9d4b:44e2', '26.26.26.1', '169.254.49.22']}\n",
      "{'name': '本地连接* 1', 'index': 18, 'description': 'Microsoft Wi-Fi Direct Virtual Adapter', 'guid': '{87F31078-5FBD-454F-B07C-1693E3D1FBC4}', 'mac': '04:d3:b0:eb:59:25', 'ipv4_metric': 25, 'ipv6_metric': 25, 'ips': ['fe80::fe6f:21d0:f545:4145', '169.254.6.45']}\n",
      "{'name': '本地连接* 2', 'index': 16, 'description': 'Microsoft Wi-Fi Direct Virtual Adapter #2', 'guid': '{7CA6F6D4-0A4E-4B9C-8494-CA6F206D7A15}', 'mac': '06:d3:b0:eb:59:24', 'ipv4_metric': 25, 'ipv6_metric': 25, 'ips': ['fe80::1dca:490d:ae80:4a70', '169.254.152.114']}\n",
      "{'name': 'VMware Network Adapter VMnet1', 'index': 8, 'description': 'VMware Virtual Ethernet Adapter for VMnet1', 'guid': '{33930B6F-9878-4CA2-8770-85F48FEA079C}', 'mac': '00:50:56:c0:00:01', 'ipv4_metric': 35, 'ipv6_metric': 35, 'ips': ['fe80::a44d:61ce:65ad:9ea9', '192.168.52.1']}\n",
      "{'name': 'VMware Network Adapter VMnet8', 'index': 7, 'description': 'VMware Virtual Ethernet Adapter for VMnet8', 'guid': '{306ACAA3-18EC-4D29-92B7-34EA588D1374}', 'mac': '00:50:56:c0:00:08', 'ipv4_metric': 35, 'ipv6_metric': 35, 'ips': ['fe80::595f:8615:8a17:e918', '192.168.136.1']}\n",
      "{'name': 'WLAN', 'index': 22, 'description': 'Intel(R) Dual Band Wireless-AC 8265', 'guid': '{C1B805AA-F666-41FA-AE77-6A388351268C}', 'mac': '04:d3:b0:eb:59:24', 'ipv4_metric': 35, 'ipv6_metric': 35, 'ips': ['2001:da8:2019:f03a:77d7:2e93:bc88:8274', '2001:da8:2019:f03a:29bc:abb8:3f52:e4a1', 'fe80::222c:bdd9:ff6f:bd78', '172.29.14.166']}\n",
      "{'name': 'Loopback Pseudo-Interface 1', 'index': 1, 'description': 'Software Loopback Interface 1', 'guid': '{FDB7C3FD-752D-11E8-996A-806E6F6E6963}', 'mac': '', 'ipv4_metric': 75, 'ipv6_metric': 75, 'ips': ['::1', '127.0.0.1']}\n",
      "{'name': 'LetsTAP-WFP Native MAC Layer LightWeight Filter-0000', 'index': 28, 'description': 'TAP-Windows Adapter V9-WFP Native MAC Layer LightWeight Filter-0000', 'guid': '{09937387-DF62-11EE-A2EB-806E6F6E6963}', 'mac': '00:ff:0e:62:1e:c2', 'ipv4_metric': 0, 'ipv6_metric': 0, 'ips': []}\n",
      "{'name': 'LetsTAP-Npcap Packet Driver (NPCAP)-0000', 'index': 29, 'description': 'TAP-Windows Adapter V9-Npcap Packet Driver (NPCAP)-0000', 'guid': '{A8AFFCD3-23CE-11EE-A1B8-005056C00008}', 'mac': '00:ff:0e:62:1e:c2', 'ipv4_metric': 0, 'ipv6_metric': 0, 'ips': []}\n",
      "{'name': 'LetsTAP-QoS Packet Scheduler-0000', 'index': 30, 'description': 'TAP-Windows Adapter V9-QoS Packet Scheduler-0000', 'guid': '{09937388-DF62-11EE-A2EB-806E6F6E6963}', 'mac': '00:ff:0e:62:1e:c2', 'ipv4_metric': 0, 'ipv6_metric': 0, 'ips': []}\n",
      "{'name': 'VMware Network Adapter VMnet1-Npcap Packet Driver (NPCAP)-0000', 'index': 31, 'description': 'VMware Virtual Ethernet Adapter for VMnet1-Npcap Packet Driver (NPCAP)-0000', 'guid': '{A8AFFCD6-23CE-11EE-A1B8-005056C00008}', 'mac': '00:50:56:c0:00:01', 'ipv4_metric': 0, 'ipv6_metric': 0, 'ips': []}\n",
      "{'name': 'LetsTAP-WFP 802.3 MAC Layer LightWeight Filter-0000', 'index': 32, 'description': 'TAP-Windows Adapter V9-WFP 802.3 MAC Layer LightWeight Filter-0000', 'guid': '{09937389-DF62-11EE-A2EB-806E6F6E6963}', 'mac': '00:ff:0e:62:1e:c2', 'ipv4_metric': 0, 'ipv6_metric': 0, 'ips': []}\n",
      "{'name': 'VMware Network Adapter VMnet8-Npcap Packet Driver (NPCAP)-0000', 'index': 33, 'description': 'VMware Virtual Ethernet Adapter for VMnet8-Npcap Packet Driver (NPCAP)-0000', 'guid': '{A8AFFCD5-23CE-11EE-A1B8-005056C00008}', 'mac': '00:50:56:c0:00:08', 'ipv4_metric': 0, 'ipv6_metric': 0, 'ips': []}\n",
      "{'name': '本地连接* 8-WFP Native MAC Layer LightWeight Filter-0000', 'index': 40, 'description': 'WAN Miniport (IP)-WFP Native MAC Layer LightWeight Filter-0000', 'guid': '{0993749E-DF62-11EE-A2EB-005056C00008}', 'mac': '', 'ipv4_metric': 0, 'ipv6_metric': 0, 'ips': []}\n",
      "{'name': '本地连接* 8-Npcap Packet Driver (NPCAP)-0000', 'index': 41, 'description': 'WAN Miniport (IP)-Npcap Packet Driver (NPCAP)-0000', 'guid': '{A8AFFCDF-23CE-11EE-A1B8-005056C00008}', 'mac': '', 'ipv4_metric': 0, 'ipv6_metric': 0, 'ips': []}\n",
      "{'name': '本地连接* 8-QoS Packet Scheduler-0000', 'index': 42, 'description': 'WAN Miniport (IP)-QoS Packet Scheduler-0000', 'guid': '{0993749F-DF62-11EE-A2EB-005056C00008}', 'mac': '', 'ipv4_metric': 0, 'ipv6_metric': 0, 'ips': []}\n",
      "{'name': '本地连接* 9-WFP Native MAC Layer LightWeight Filter-0000', 'index': 43, 'description': 'WAN Miniport (IPv6)-WFP Native MAC Layer LightWeight Filter-0000', 'guid': '{099374A2-DF62-11EE-A2EB-005056C00008}', 'mac': '', 'ipv4_metric': 0, 'ipv6_metric': 0, 'ips': []}\n",
      "{'name': '本地连接* 9-Npcap Packet Driver (NPCAP)-0000', 'index': 44, 'description': 'WAN Miniport (IPv6)-Npcap Packet Driver (NPCAP)-0000', 'guid': '{A8AFFCDE-23CE-11EE-A1B8-005056C00008}', 'mac': '', 'ipv4_metric': 0, 'ipv6_metric': 0, 'ips': []}\n",
      "{'name': '本地连接* 9-QoS Packet Scheduler-0000', 'index': 45, 'description': 'WAN Miniport (IPv6)-QoS Packet Scheduler-0000', 'guid': '{099374A3-DF62-11EE-A2EB-005056C00008}', 'mac': '', 'ipv4_metric': 0, 'ipv6_metric': 0, 'ips': []}\n",
      "{'name': '本地连接* 10-WFP Native MAC Layer LightWeight Filter-0000', 'index': 46, 'description': 'WAN Miniport (Network Monitor)-WFP Native MAC Layer LightWeight Filter-0000', 'guid': '{099374A5-DF62-11EE-A2EB-005056C00008}', 'mac': '', 'ipv4_metric': 0, 'ipv6_metric': 0, 'ips': []}\n",
      "{'name': '本地连接* 10-Npcap Packet Driver (NPCAP)-0000', 'index': 47, 'description': 'WAN Miniport (Network Monitor)-Npcap Packet Driver (NPCAP)-0000', 'guid': '{A8AFFCD7-23CE-11EE-A1B8-005056C00008}', 'mac': '', 'ipv4_metric': 0, 'ipv6_metric': 0, 'ips': []}\n",
      "{'name': '本地连接* 10-QoS Packet Scheduler-0000', 'index': 48, 'description': 'WAN Miniport (Network Monitor)-QoS Packet Scheduler-0000', 'guid': '{099374A6-DF62-11EE-A2EB-005056C00008}', 'mac': '', 'ipv4_metric': 0, 'ipv6_metric': 0, 'ips': []}\n",
      "{'name': '以太网(内核调试器)', 'index': 15, 'description': 'Microsoft Kernel Debug Network Adapter', 'guid': '{725C3D14-F2AF-4577-9AC4-75BF3B2DF63C}', 'mac': '', 'ipv4_metric': 0, 'ipv6_metric': 0, 'ips': []}\n",
      "{'name': '以太网', 'index': 11, 'description': 'ASIX AX88179 USB 3.0 to Gigabit Ethernet Adapter', 'guid': '{4E9E7678-F116-4FE4-89EA-E9CF6CD89601}', 'mac': '', 'ipv4_metric': 0, 'ipv6_metric': 0, 'ips': []}\n",
      "{'name': '以太网 2', 'index': 24, 'description': 'ASIX AX88772B USB2.0 to Fast Ethernet Adapter', 'guid': '{D6AAC2A1-B46A-4685-8C2F-AA1E222EEDB8}', 'mac': '', 'ipv4_metric': 0, 'ipv6_metric': 0, 'ips': []}\n",
      "{'name': '本地连接* 8', 'index': 27, 'description': 'WAN Miniport (IP)', 'guid': '{FCA8D56E-A27B-446C-87F9-2BD8EDA475D7}', 'mac': '', 'ipv4_metric': 0, 'ipv6_metric': 0, 'ips': []}\n",
      "{'name': '本地连接* 9', 'index': 23, 'description': 'WAN Miniport (IPv6)', 'guid': '{C8FF96E1-217E-4698-A858-904E2ABC2183}', 'mac': '', 'ipv4_metric': 0, 'ipv6_metric': 0, 'ips': []}\n",
      "{'name': '本地连接* 10', 'index': 9, 'description': 'WAN Miniport (Network Monitor)', 'guid': '{34E020AA-A3CA-4449-BCC4-5E6481BB1E6F}', 'mac': '', 'ipv4_metric': 0, 'ipv6_metric': 0, 'ips': []}\n",
      "{'name': '以太网 4', 'index': 14, 'description': 'Remote NDIS based Internet Sharing Device', 'guid': '{5AD7782A-FC1C-4695-AA55-6421740A47EE}', 'mac': 'ca:14:85:c3:e8:ca', 'ipv4_metric': 0, 'ipv6_metric': 0, 'ips': []}\n",
      "{'name': '以太网 5', 'index': 13, 'description': 'Realtek USB FE Family Controller', 'guid': '{53F99BF9-CDB1-4B0D-91B2-E9BAA24BC5E1}', 'mac': '00:e0:4c:36:02:80', 'ipv4_metric': 0, 'ipv6_metric': 0, 'ips': []}\n",
      "{'name': '蓝牙网络连接', 'index': 21, 'description': 'Bluetooth Device (Personal Area Network)', 'guid': '{B31590E0-DE03-4F29-B74C-B9EF37AED486}', 'mac': '04:d3:b0:eb:59:28', 'ipv4_metric': 0, 'ipv6_metric': 0, 'ips': []}\n",
      "{'name': '以太网 3', 'index': 20, 'description': 'USB to Ethernet Adapter', 'guid': '{A720E1E9-03BE-4269-9BFE-D6FE1E851545}', 'mac': '00:0c:05:13:0f:0e', 'ipv4_metric': 0, 'ipv6_metric': 0, 'ips': []}\n",
      "{'name': '本地连接* 7', 'index': 4, 'description': 'WAN Miniport (PPPOE)', 'guid': '{191B3CD2-5F5D-4216-97F7-E67B7EFE9B82}', 'mac': '', 'ipv4_metric': 0, 'ipv6_metric': 0, 'ips': []}\n",
      "{'name': '本地连接* 11', 'index': 26, 'description': 'RAS Async Adapter', 'guid': '{DFE68439-28CE-4CB9-AF0E-EA5E094041E7}', 'mac': '', 'ipv4_metric': 0, 'ipv6_metric': 0, 'ips': []}\n",
      "{'name': 'NSTUN', 'index': 12, 'description': 'nsfocustun Tunnel', 'guid': '{53C504FF-F2DD-4702-8231-F40F4B041EEF}', 'mac': '', 'ipv4_metric': 0, 'ipv6_metric': 0, 'ips': []}\n",
      "{'name': 'WLAN-WFP Native MAC Layer LightWeight Filter-0000', 'index': 34, 'description': 'Intel(R) Dual Band Wireless-AC 8265-WFP Native MAC Layer LightWeight Filter-0000', 'guid': '{09937428-DF62-11EE-A2EB-04D3B0EB5924}', 'mac': '04:d3:b0:eb:59:24', 'ipv4_metric': 0, 'ipv6_metric': 0, 'ips': []}\n",
      "{'name': 'WLAN-Virtual WiFi Filter Driver-0000', 'index': 35, 'description': 'Intel(R) Dual Band Wireless-AC 8265-Virtual WiFi Filter Driver-0000', 'guid': '{F9D2794F-9F8F-11EB-9D9F-CDE1C5525D19}', 'mac': '04:d3:b0:eb:59:24', 'ipv4_metric': 0, 'ipv6_metric': 0, 'ips': []}\n",
      "{'name': 'WLAN-Native WiFi Filter Driver-0000', 'index': 36, 'description': 'Intel(R) Dual Band Wireless-AC 8265-Native WiFi Filter Driver-0000', 'guid': '{F9D27950-9F8F-11EB-9D9F-CDE1C5525D19}', 'mac': '04:d3:b0:eb:59:24', 'ipv4_metric': 0, 'ipv6_metric': 0, 'ips': []}\n",
      "{'name': 'WLAN-Npcap Packet Driver (NPCAP)-0000', 'index': 37, 'description': 'Intel(R) Dual Band Wireless-AC 8265-Npcap Packet Driver (NPCAP)-0000', 'guid': '{A8AFFCDC-23CE-11EE-A1B8-005056C00008}', 'mac': '04:d3:b0:eb:59:24', 'ipv4_metric': 0, 'ipv6_metric': 0, 'ips': []}\n",
      "{'name': 'WLAN-QoS Packet Scheduler-0000', 'index': 38, 'description': 'Intel(R) Dual Band Wireless-AC 8265-QoS Packet Scheduler-0000', 'guid': '{09937429-DF62-11EE-A2EB-04D3B0EB5924}', 'mac': '04:d3:b0:eb:59:24', 'ipv4_metric': 0, 'ipv6_metric': 0, 'ips': []}\n",
      "{'name': 'WLAN-WFP 802.3 MAC Layer LightWeight Filter-0000', 'index': 39, 'description': 'Intel(R) Dual Band Wireless-AC 8265-WFP 802.3 MAC Layer LightWeight Filter-0000', 'guid': '{0993742A-DF62-11EE-A2EB-04D3B0EB5924}', 'mac': '04:d3:b0:eb:59:24', 'ipv4_metric': 0, 'ipv6_metric': 0, 'ips': []}\n",
      "{'name': '本地连接* 1-WFP Native MAC Layer LightWeight Filter-0000', 'index': 49, 'description': 'Microsoft Wi-Fi Direct Virtual Adapter-WFP Native MAC Layer LightWeight Filter-0000', 'guid': '{099374BB-DF62-11EE-A2EB-005056C00008}', 'mac': '04:d3:b0:eb:59:25', 'ipv4_metric': 0, 'ipv6_metric': 0, 'ips': []}\n",
      "{'name': '本地连接* 1-Native WiFi Filter Driver-0000', 'index': 50, 'description': 'Microsoft Wi-Fi Direct Virtual Adapter-Native WiFi Filter Driver-0000', 'guid': '{F9D2795A-9F8F-11EB-9D9F-005056C00008}', 'mac': '04:d3:b0:eb:59:25', 'ipv4_metric': 0, 'ipv6_metric': 0, 'ips': []}\n",
      "{'name': '本地连接* 1-Npcap Packet Driver (NPCAP)-0000', 'index': 51, 'description': 'Microsoft Wi-Fi Direct Virtual Adapter-Npcap Packet Driver (NPCAP)-0000', 'guid': '{A8AFFCDA-23CE-11EE-A1B8-005056C00008}', 'mac': '04:d3:b0:eb:59:25', 'ipv4_metric': 0, 'ipv6_metric': 0, 'ips': []}\n",
      "{'name': '本地连接* 1-QoS Packet Scheduler-0000', 'index': 52, 'description': 'Microsoft Wi-Fi Direct Virtual Adapter-QoS Packet Scheduler-0000', 'guid': '{099374F1-DF62-11EE-A2EB-005056C00008}', 'mac': '04:d3:b0:eb:59:25', 'ipv4_metric': 0, 'ipv6_metric': 0, 'ips': []}\n",
      "{'name': '本地连接* 1-WFP 802.3 MAC Layer LightWeight Filter-0000', 'index': 53, 'description': 'Microsoft Wi-Fi Direct Virtual Adapter-WFP 802.3 MAC Layer LightWeight Filter-0000', 'guid': '{099374F2-DF62-11EE-A2EB-005056C00008}', 'mac': '04:d3:b0:eb:59:25', 'ipv4_metric': 0, 'ipv6_metric': 0, 'ips': []}\n",
      "{'name': '本地连接* 2-WFP Native MAC Layer LightWeight Filter-0000', 'index': 54, 'description': 'Microsoft Wi-Fi Direct Virtual Adapter #2-WFP Native MAC Layer LightWeight Filter-0000', 'guid': '{0993760C-DF62-11EE-A2EB-005056C00008}', 'mac': '06:d3:b0:eb:59:24', 'ipv4_metric': 0, 'ipv6_metric': 0, 'ips': []}\n",
      "{'name': '本地连接* 2-Native WiFi Filter Driver-0000', 'index': 55, 'description': 'Microsoft Wi-Fi Direct Virtual Adapter #2-Native WiFi Filter Driver-0000', 'guid': '{F9D27C80-9F8F-11EB-9D9F-005056C00008}', 'mac': '06:d3:b0:eb:59:24', 'ipv4_metric': 0, 'ipv6_metric': 0, 'ips': []}\n",
      "{'name': '本地连接* 2-Npcap Packet Driver (NPCAP)-0000', 'index': 56, 'description': 'Microsoft Wi-Fi Direct Virtual Adapter #2-Npcap Packet Driver (NPCAP)-0000', 'guid': '{A8AFFCD8-23CE-11EE-A1B8-005056C00008}', 'mac': '06:d3:b0:eb:59:24', 'ipv4_metric': 0, 'ipv6_metric': 0, 'ips': []}\n",
      "{'name': '本地连接* 2-QoS Packet Scheduler-0000', 'index': 57, 'description': 'Microsoft Wi-Fi Direct Virtual Adapter #2-QoS Packet Scheduler-0000', 'guid': '{0993760D-DF62-11EE-A2EB-005056C00008}', 'mac': '06:d3:b0:eb:59:24', 'ipv4_metric': 0, 'ipv6_metric': 0, 'ips': []}\n",
      "{'name': '本地连接* 2-WFP 802.3 MAC Layer LightWeight Filter-0000', 'index': 58, 'description': 'Microsoft Wi-Fi Direct Virtual Adapter #2-WFP 802.3 MAC Layer LightWeight Filter-0000', 'guid': '{0993760E-DF62-11EE-A2EB-005056C00008}', 'mac': '06:d3:b0:eb:59:24', 'ipv4_metric': 0, 'ipv6_metric': 0, 'ips': []}\n",
      "{'name': 'Teredo Tunneling Pseudo-Interface', 'index': 19, 'description': 'Microsoft Teredo Tunneling Adapter', 'guid': '{93123211-9629-4E04-82F0-EA2E4F221468}', 'mac': '', 'ipv4_metric': 0, 'ipv6_metric': 0, 'ips': []}\n",
      "{'name': 'Microsoft IP-HTTPS Platform Interface', 'index': 6, 'description': 'Microsoft IP-HTTPS Platform Adapter', 'guid': '{2EE2C70C-A092-4D88-A654-98C8D7645CD5}', 'mac': '', 'ipv4_metric': 0, 'ipv6_metric': 0, 'ips': []}\n",
      "{'name': '6to4 Adapter', 'index': 2, 'description': 'Microsoft 6to4 Adapter', 'guid': '{07374750-E68B-490E-9330-9FD785CD71B6}', 'mac': '', 'ipv4_metric': 0, 'ipv6_metric': 0, 'ips': []}\n",
      "{'name': '本地连接* 3', 'index': 5, 'description': 'WAN Miniport (SSTP)', 'guid': '{264A5DAB-35FE-4D91-9725-8BB8890C5C4A}', 'mac': '', 'ipv4_metric': 0, 'ipv6_metric': 0, 'ips': []}\n",
      "{'name': '本地连接* 4', 'index': 10, 'description': 'WAN Miniport (IKEv2)', 'guid': '{3E95E0FB-488D-4035-AF39-5602A74466F3}', 'mac': '', 'ipv4_metric': 0, 'ipv6_metric': 0, 'ips': []}\n",
      "{'name': '本地连接* 5', 'index': 25, 'description': 'WAN Miniport (L2TP)', 'guid': '{D6D1340F-A305-45CA-B9D6-DE0D67950F74}', 'mac': '', 'ipv4_metric': 0, 'ipv6_metric': 0, 'ips': []}\n",
      "{'name': '本地连接* 6', 'index': 17, 'description': 'WAN Miniport (PPTP)', 'guid': '{827CDA8A-667A-47C5-8D8B-7063E0E6C70D}', 'mac': '', 'ipv4_metric': 0, 'ipv6_metric': 0, 'ips': []}\n"
     ]
    }
   ],
   "source": [
    "  # 代表获得网卡名称的函数\n",
    "def get_interface():\n",
    "    #   获取网卡名称信息，并存入列表\n",
    "    interface_info_list=[]\n",
    "    interface_names_list=[]\n",
    "    if check_os_Window():       \n",
    "        for interface in get_windows_if_list():\n",
    "            interface_info_list.append(interface)\n",
    "            interface_names_list.append(interface.get('name'))\n",
    "    if len(interface_names_list)==0:\n",
    "        interface_names_list=conf.ifaces\n",
    "    return interface_info_list,interface_names_list\n",
    "interface_info_list,b=get_interface()\n",
    "print(b)\n",
    "print(conf.iface)\n",
    "for aii in a:\n",
    "    print(aii)"
   ]
  },
  {
   "cell_type": "code",
   "execution_count": 37,
   "metadata": {},
   "outputs": [
    {
     "data": {
      "text/plain": [
       "<Sniffed: TCP:0 UDP:0 ICMP:0 Other:0>"
      ]
     },
     "execution_count": 37,
     "metadata": {},
     "output_type": "execute_result"
    }
   ],
   "source": [
    "\n",
    "\n",
    "def packet_callback(packet):\n",
    "    print ( packet.show() )\n",
    "    if IP in packet:\n",
    "        src_ip = packet['IP'].src\n",
    "        dst_ip = packet['IP'].dst\n",
    "        print(f\"Source IP: {src_ip} --> Destination IP: {dst_ip}\")\n",
    "# 监听指定网卡的数据包\n",
    "sniff(iface=conf.iface,prn=packet_callback)"
   ]
  },
  {
   "cell_type": "code",
   "execution_count": 1,
   "metadata": {},
   "outputs": [
    {
     "name": "stderr",
     "output_type": "stream",
     "text": [
      "D:\\python\\Lib\\site-packages\\cryptography\\hazmat\\backends\\openssl\\backend.py:27: UserWarning: You are using cryptography on a 32-bit Python on a 64-bit Windows Operating System. Cryptography will be significantly faster if you switch to using a 64-bit Python.\n",
      "  from cryptography.hazmat.bindings.openssl import binding\n"
     ]
    }
   ],
   "source": [
    "# coding=utf-8\n",
    "\n",
    "# 嗅探数据包\n",
    "from scapy.all import *\n",
    "from scapy.layers.inet import IP\n",
    "from scapy.layers.l2 import ARP\n",
    "from scapy.layers.http import HTTPRequest, HTTPResponse, HTTP\n",
    "import time\n",
    " \n"
   ]
  },
  {
   "cell_type": "code",
   "execution_count": null,
   "metadata": {},
   "outputs": [
    {
     "name": "stdout",
     "output_type": "stream",
     "text": [
      "2024-03-12 19:42:31.654\n",
      "2024-03-12 19:42:31.654\n",
      "2024-03-12 19:42:31.654\n",
      "2024-03-12 19:42:31.654\n",
      "2024-03-12 19:42:31.900\n",
      "2024-03-12 19:42:31.900\n",
      "2024-03-12 19:42:31.900\n",
      "2024-03-12 19:42:31.904\n",
      "2024-03-12 19:42:32.158\n",
      "2024-03-12 19:42:32.158\n",
      "2024-03-12 19:42:32.158\n",
      "2024-03-12 19:42:32.158\n",
      "2024-03-12 19:42:32.158\n",
      "2024-03-12 19:42:32.158\n",
      "2024-03-12 19:42:32.158\n",
      "2024-03-12 19:42:32.158\n",
      "2024-03-12 19:42:32.158\n",
      "2024-03-12 19:42:32.158\n",
      "2024-03-12 19:42:32.158\n",
      "2024-03-12 19:42:32.158\n",
      "2024-03-12 19:42:32.160\n",
      "2024-03-12 19:42:32.160\n",
      "2024-03-12 19:42:32.160\n",
      "2024-03-12 19:42:32.386\n",
      "2024-03-12 19:42:32.388\n",
      "2024-03-12 19:42:32.396\n",
      "2024-03-12 19:42:32.396\n",
      "2024-03-12 19:42:32.396\n",
      "2024-03-12 19:42:32.505\n",
      "2024-03-12 19:42:32.505\n",
      "2024-03-12 19:42:32.505\n",
      "2024-03-12 19:42:32.506\n",
      "2024-03-12 19:42:32.506\n",
      "2024-03-12 19:42:32.726\n",
      "2024-03-12 19:42:32.738\n",
      "2024-03-12 19:42:33.507\n",
      "2024-03-12 19:42:33.507\n",
      "2024-03-12 19:42:33.732\n",
      "2024-03-12 19:42:33.732\n",
      "2024-03-12 19:42:33.732\n",
      "2024-03-12 19:42:33.732\n",
      "2024-03-12 19:42:33.732\n",
      "2024-03-12 19:42:33.732\n",
      "2024-03-12 19:42:33.733\n",
      "2024-03-12 19:42:33.733\n",
      "2024-03-12 19:42:33.957\n",
      "2024-03-12 19:42:33.957\n",
      "2024-03-12 19:42:33.957\n",
      "2024-03-12 19:42:33.958\n",
      "2024-03-12 19:42:33.958\n",
      "2024-03-12 19:42:33.959\n",
      "2024-03-12 19:42:33.959\n",
      "2024-03-12 19:42:33.960\n",
      "2024-03-12 19:42:34.204\n",
      "2024-03-12 19:42:34.204\n",
      "2024-03-12 19:42:34.204\n",
      "2024-03-12 19:42:34.204\n",
      "2024-03-12 19:42:34.204\n",
      "2024-03-12 19:42:34.204\n",
      "2024-03-12 19:42:34.204\n",
      "2024-03-12 19:42:34.204\n",
      "2024-03-12 19:42:34.204\n",
      "2024-03-12 19:42:34.204\n",
      "2024-03-12 19:42:34.204\n",
      "2024-03-12 19:42:34.204\n",
      "2024-03-12 19:42:34.208\n",
      "2024-03-12 19:42:34.208\n",
      "2024-03-12 19:42:34.208\n",
      "2024-03-12 19:42:34.208\n",
      "2024-03-12 19:42:34.228\n",
      "2024-03-12 19:42:34.228\n",
      "2024-03-12 19:42:34.228\n",
      "2024-03-12 19:42:34.228\n",
      "2024-03-12 19:42:34.228\n",
      "2024-03-12 19:42:34.228\n",
      "2024-03-12 19:42:34.228\n",
      "2024-03-12 19:42:34.228\n",
      "2024-03-12 19:42:34.229\n",
      "2024-03-12 19:42:34.229\n",
      "2024-03-12 19:42:34.229\n",
      "2024-03-12 19:42:34.229\n",
      "2024-03-12 19:42:34.231\n",
      "2024-03-12 19:42:34.231\n",
      "2024-03-12 19:42:34.231\n",
      "2024-03-12 19:42:34.231\n",
      "2024-03-12 19:42:34.231\n",
      "2024-03-12 19:42:34.437\n",
      "2024-03-12 19:42:34.437\n",
      "2024-03-12 19:42:34.437\n",
      "2024-03-12 19:42:34.437\n",
      "2024-03-12 19:42:34.437\n",
      "2024-03-12 19:42:34.437\n",
      "2024-03-12 19:42:34.437\n",
      "2024-03-12 19:42:34.460\n",
      "2024-03-12 19:42:34.460\n",
      "2024-03-12 19:42:34.460\n",
      "2024-03-12 19:42:34.460\n",
      "2024-03-12 19:42:34.478\n",
      "2024-03-12 19:42:34.478\n",
      "2024-03-12 19:42:34.478\n",
      "2024-03-12 19:42:34.479\n",
      "2024-03-12 19:42:34.479\n",
      "2024-03-12 19:42:34.523\n",
      "2024-03-12 19:42:34.523\n",
      "2024-03-12 19:42:34.523\n",
      "2024-03-12 19:42:34.704\n",
      "2024-03-12 19:42:34.704\n",
      "2024-03-12 19:42:34.799\n",
      "2024-03-12 19:42:34.799\n",
      "2024-03-12 19:42:34.800\n",
      "2024-03-12 19:42:34.800\n",
      "2024-03-12 19:42:34.800\n",
      "2024-03-12 19:42:35.027\n"
     ]
    }
   ],
   "source": [
    "\n",
    "# 回调函数\n",
    "def callBack(pkt):\n",
    "    if IP in pkt :\n",
    "        a=pkt\n",
    "        b=pkt[IP].fields.items()\n",
    "        print(datetime.fromtimestamp(pkt.time).strftime('%Y-%m-%d %H:%M:%S.%f')[:-3])\n",
    "                    \n",
    "        #print(pkt[IP].src, pkt[IP].dst, pkt[IP].ttl,pkt[IP].flags)\n",
    "t=AsyncSniffer(iface=\"WLAN\",filter=\"ip\",  prn = callBack) # prn = 回调函数，不加（）\n",
    "t.start()\n"
   ]
  },
  {
   "cell_type": "code",
   "execution_count": 10,
   "metadata": {},
   "outputs": [
    {
     "data": {
      "text/plain": [
       "<Sniffed: TCP:113 UDP:0 ICMP:0 Other:0>"
      ]
     },
     "execution_count": 10,
     "metadata": {},
     "output_type": "execute_result"
    }
   ],
   "source": [
    "\n",
    "t.stop()"
   ]
  },
  {
   "cell_type": "code",
   "execution_count": null,
   "metadata": {},
   "outputs": [],
   "source": [
    " \n",
    "# 自动生成pcap包\n",
    "pkts = []\n",
    "count = 0\n",
    "pcap_num = 0\n",
    "def write_pcap(x):\n",
    "    print(\"Enter write_pcap...\")\n",
    "    global pkts\n",
    "    global count\n",
    "    global pcap_num\n",
    " \n",
    "    pkts.append(x)\n",
    "    count += 1\n",
    "    if count == 3:\n",
    "        pcap_num += 1\n",
    "        pname = \"testScapySniff_write_\" + str(pcap_num) + \".pcap\"\n",
    "        print(pname)\n",
    "        wrpcap(pname, pkts)\n",
    "        pkts = []\n",
    "        count = 0\n",
    "sniff(filter=\"icmp\",  prn = write_pcap,count=9)"
   ]
  }
 ],
 "metadata": {
  "kernelspec": {
   "display_name": "Python 3",
   "language": "python",
   "name": "python3"
  },
  "language_info": {
   "codemirror_mode": {
    "name": "ipython",
    "version": 3
   },
   "file_extension": ".py",
   "mimetype": "text/x-python",
   "name": "python",
   "nbconvert_exporter": "python",
   "pygments_lexer": "ipython3",
   "version": "3.7.4"
  },
  "orig_nbformat": 4
 },
 "nbformat": 4,
 "nbformat_minor": 2
}
